{
  "nbformat": 4,
  "nbformat_minor": 0,
  "metadata": {
    "colab": {
      "provenance": [],
      "toc_visible": true,
      "authorship_tag": "ABX9TyNrmUThmcU9R4fgrJZXdEff",
      "include_colab_link": true
    },
    "kernelspec": {
      "name": "python3",
      "display_name": "Python 3"
    },
    "language_info": {
      "name": "python"
    }
  },
  "cells": [
    {
      "cell_type": "markdown",
      "metadata": {
        "id": "view-in-github",
        "colab_type": "text"
      },
      "source": [
        "<a href=\"https://colab.research.google.com/github/AkoIsCat/Open-AI-/blob/main/Untitled2.ipynb\" target=\"_parent\"><img src=\"https://colab.research.google.com/assets/colab-badge.svg\" alt=\"Open In Colab\"/></a>"
      ]
    },
    {
      "cell_type": "code",
      "execution_count": 1,
      "metadata": {
        "colab": {
          "base_uri": "https://localhost:8080/"
        },
        "collapsed": true,
        "id": "EcbnBomKMMXs",
        "outputId": "2a381b16-54df-4ee1-b7d5-7d6fa5d4a2da"
      },
      "outputs": [
        {
          "output_type": "stream",
          "name": "stdout",
          "text": [
            "Requirement already satisfied: langchain in /usr/local/lib/python3.11/dist-packages (0.3.25)\n",
            "Requirement already satisfied: langchain-core<1.0.0,>=0.3.58 in /usr/local/lib/python3.11/dist-packages (from langchain) (0.3.63)\n",
            "Requirement already satisfied: langchain-text-splitters<1.0.0,>=0.3.8 in /usr/local/lib/python3.11/dist-packages (from langchain) (0.3.8)\n",
            "Requirement already satisfied: langsmith<0.4,>=0.1.17 in /usr/local/lib/python3.11/dist-packages (from langchain) (0.3.43)\n",
            "Requirement already satisfied: pydantic<3.0.0,>=2.7.4 in /usr/local/lib/python3.11/dist-packages (from langchain) (2.11.5)\n",
            "Requirement already satisfied: SQLAlchemy<3,>=1.4 in /usr/local/lib/python3.11/dist-packages (from langchain) (2.0.41)\n",
            "Requirement already satisfied: requests<3,>=2 in /usr/local/lib/python3.11/dist-packages (from langchain) (2.32.3)\n",
            "Requirement already satisfied: PyYAML>=5.3 in /usr/local/lib/python3.11/dist-packages (from langchain) (6.0.2)\n",
            "Requirement already satisfied: tenacity!=8.4.0,<10.0.0,>=8.1.0 in /usr/local/lib/python3.11/dist-packages (from langchain-core<1.0.0,>=0.3.58->langchain) (9.1.2)\n",
            "Requirement already satisfied: jsonpatch<2.0,>=1.33 in /usr/local/lib/python3.11/dist-packages (from langchain-core<1.0.0,>=0.3.58->langchain) (1.33)\n",
            "Requirement already satisfied: packaging<25,>=23.2 in /usr/local/lib/python3.11/dist-packages (from langchain-core<1.0.0,>=0.3.58->langchain) (24.2)\n",
            "Requirement already satisfied: typing-extensions>=4.7 in /usr/local/lib/python3.11/dist-packages (from langchain-core<1.0.0,>=0.3.58->langchain) (4.13.2)\n",
            "Requirement already satisfied: httpx<1,>=0.23.0 in /usr/local/lib/python3.11/dist-packages (from langsmith<0.4,>=0.1.17->langchain) (0.28.1)\n",
            "Requirement already satisfied: orjson<4.0.0,>=3.9.14 in /usr/local/lib/python3.11/dist-packages (from langsmith<0.4,>=0.1.17->langchain) (3.10.18)\n",
            "Requirement already satisfied: requests-toolbelt<2.0.0,>=1.0.0 in /usr/local/lib/python3.11/dist-packages (from langsmith<0.4,>=0.1.17->langchain) (1.0.0)\n",
            "Requirement already satisfied: zstandard<0.24.0,>=0.23.0 in /usr/local/lib/python3.11/dist-packages (from langsmith<0.4,>=0.1.17->langchain) (0.23.0)\n",
            "Requirement already satisfied: annotated-types>=0.6.0 in /usr/local/lib/python3.11/dist-packages (from pydantic<3.0.0,>=2.7.4->langchain) (0.7.0)\n",
            "Requirement already satisfied: pydantic-core==2.33.2 in /usr/local/lib/python3.11/dist-packages (from pydantic<3.0.0,>=2.7.4->langchain) (2.33.2)\n",
            "Requirement already satisfied: typing-inspection>=0.4.0 in /usr/local/lib/python3.11/dist-packages (from pydantic<3.0.0,>=2.7.4->langchain) (0.4.1)\n",
            "Requirement already satisfied: charset-normalizer<4,>=2 in /usr/local/lib/python3.11/dist-packages (from requests<3,>=2->langchain) (3.4.2)\n",
            "Requirement already satisfied: idna<4,>=2.5 in /usr/local/lib/python3.11/dist-packages (from requests<3,>=2->langchain) (3.10)\n",
            "Requirement already satisfied: urllib3<3,>=1.21.1 in /usr/local/lib/python3.11/dist-packages (from requests<3,>=2->langchain) (2.4.0)\n",
            "Requirement already satisfied: certifi>=2017.4.17 in /usr/local/lib/python3.11/dist-packages (from requests<3,>=2->langchain) (2025.4.26)\n",
            "Requirement already satisfied: greenlet>=1 in /usr/local/lib/python3.11/dist-packages (from SQLAlchemy<3,>=1.4->langchain) (3.2.2)\n",
            "Requirement already satisfied: anyio in /usr/local/lib/python3.11/dist-packages (from httpx<1,>=0.23.0->langsmith<0.4,>=0.1.17->langchain) (4.9.0)\n",
            "Requirement already satisfied: httpcore==1.* in /usr/local/lib/python3.11/dist-packages (from httpx<1,>=0.23.0->langsmith<0.4,>=0.1.17->langchain) (1.0.9)\n",
            "Requirement already satisfied: h11>=0.16 in /usr/local/lib/python3.11/dist-packages (from httpcore==1.*->httpx<1,>=0.23.0->langsmith<0.4,>=0.1.17->langchain) (0.16.0)\n",
            "Requirement already satisfied: jsonpointer>=1.9 in /usr/local/lib/python3.11/dist-packages (from jsonpatch<2.0,>=1.33->langchain-core<1.0.0,>=0.3.58->langchain) (3.0.0)\n",
            "Requirement already satisfied: sniffio>=1.1 in /usr/local/lib/python3.11/dist-packages (from anyio->httpx<1,>=0.23.0->langsmith<0.4,>=0.1.17->langchain) (1.3.1)\n"
          ]
        }
      ],
      "source": [
        "!pip install langchain"
      ]
    },
    {
      "cell_type": "code",
      "source": [
        "!pip install langchain_openai"
      ],
      "metadata": {
        "colab": {
          "base_uri": "https://localhost:8080/"
        },
        "collapsed": true,
        "id": "ZSuna99AMk70",
        "outputId": "c1da47f9-f2f2-48d7-8eee-1b45f42e5e4e"
      },
      "execution_count": 2,
      "outputs": [
        {
          "output_type": "stream",
          "name": "stdout",
          "text": [
            "Collecting langchain_openai\n",
            "  Downloading langchain_openai-0.3.19-py3-none-any.whl.metadata (2.3 kB)\n",
            "Requirement already satisfied: langchain-core<1.0.0,>=0.3.63 in /usr/local/lib/python3.11/dist-packages (from langchain_openai) (0.3.63)\n",
            "Requirement already satisfied: openai<2.0.0,>=1.68.2 in /usr/local/lib/python3.11/dist-packages (from langchain_openai) (1.82.1)\n",
            "Requirement already satisfied: tiktoken<1,>=0.7 in /usr/local/lib/python3.11/dist-packages (from langchain_openai) (0.9.0)\n",
            "Requirement already satisfied: langsmith<0.4,>=0.1.126 in /usr/local/lib/python3.11/dist-packages (from langchain-core<1.0.0,>=0.3.63->langchain_openai) (0.3.43)\n",
            "Requirement already satisfied: tenacity!=8.4.0,<10.0.0,>=8.1.0 in /usr/local/lib/python3.11/dist-packages (from langchain-core<1.0.0,>=0.3.63->langchain_openai) (9.1.2)\n",
            "Requirement already satisfied: jsonpatch<2.0,>=1.33 in /usr/local/lib/python3.11/dist-packages (from langchain-core<1.0.0,>=0.3.63->langchain_openai) (1.33)\n",
            "Requirement already satisfied: PyYAML>=5.3 in /usr/local/lib/python3.11/dist-packages (from langchain-core<1.0.0,>=0.3.63->langchain_openai) (6.0.2)\n",
            "Requirement already satisfied: packaging<25,>=23.2 in /usr/local/lib/python3.11/dist-packages (from langchain-core<1.0.0,>=0.3.63->langchain_openai) (24.2)\n",
            "Requirement already satisfied: typing-extensions>=4.7 in /usr/local/lib/python3.11/dist-packages (from langchain-core<1.0.0,>=0.3.63->langchain_openai) (4.13.2)\n",
            "Requirement already satisfied: pydantic>=2.7.4 in /usr/local/lib/python3.11/dist-packages (from langchain-core<1.0.0,>=0.3.63->langchain_openai) (2.11.5)\n",
            "Requirement already satisfied: anyio<5,>=3.5.0 in /usr/local/lib/python3.11/dist-packages (from openai<2.0.0,>=1.68.2->langchain_openai) (4.9.0)\n",
            "Requirement already satisfied: distro<2,>=1.7.0 in /usr/local/lib/python3.11/dist-packages (from openai<2.0.0,>=1.68.2->langchain_openai) (1.9.0)\n",
            "Requirement already satisfied: httpx<1,>=0.23.0 in /usr/local/lib/python3.11/dist-packages (from openai<2.0.0,>=1.68.2->langchain_openai) (0.28.1)\n",
            "Requirement already satisfied: jiter<1,>=0.4.0 in /usr/local/lib/python3.11/dist-packages (from openai<2.0.0,>=1.68.2->langchain_openai) (0.10.0)\n",
            "Requirement already satisfied: sniffio in /usr/local/lib/python3.11/dist-packages (from openai<2.0.0,>=1.68.2->langchain_openai) (1.3.1)\n",
            "Requirement already satisfied: tqdm>4 in /usr/local/lib/python3.11/dist-packages (from openai<2.0.0,>=1.68.2->langchain_openai) (4.67.1)\n",
            "Requirement already satisfied: regex>=2022.1.18 in /usr/local/lib/python3.11/dist-packages (from tiktoken<1,>=0.7->langchain_openai) (2024.11.6)\n",
            "Requirement already satisfied: requests>=2.26.0 in /usr/local/lib/python3.11/dist-packages (from tiktoken<1,>=0.7->langchain_openai) (2.32.3)\n",
            "Requirement already satisfied: idna>=2.8 in /usr/local/lib/python3.11/dist-packages (from anyio<5,>=3.5.0->openai<2.0.0,>=1.68.2->langchain_openai) (3.10)\n",
            "Requirement already satisfied: certifi in /usr/local/lib/python3.11/dist-packages (from httpx<1,>=0.23.0->openai<2.0.0,>=1.68.2->langchain_openai) (2025.4.26)\n",
            "Requirement already satisfied: httpcore==1.* in /usr/local/lib/python3.11/dist-packages (from httpx<1,>=0.23.0->openai<2.0.0,>=1.68.2->langchain_openai) (1.0.9)\n",
            "Requirement already satisfied: h11>=0.16 in /usr/local/lib/python3.11/dist-packages (from httpcore==1.*->httpx<1,>=0.23.0->openai<2.0.0,>=1.68.2->langchain_openai) (0.16.0)\n",
            "Requirement already satisfied: jsonpointer>=1.9 in /usr/local/lib/python3.11/dist-packages (from jsonpatch<2.0,>=1.33->langchain-core<1.0.0,>=0.3.63->langchain_openai) (3.0.0)\n",
            "Requirement already satisfied: orjson<4.0.0,>=3.9.14 in /usr/local/lib/python3.11/dist-packages (from langsmith<0.4,>=0.1.126->langchain-core<1.0.0,>=0.3.63->langchain_openai) (3.10.18)\n",
            "Requirement already satisfied: requests-toolbelt<2.0.0,>=1.0.0 in /usr/local/lib/python3.11/dist-packages (from langsmith<0.4,>=0.1.126->langchain-core<1.0.0,>=0.3.63->langchain_openai) (1.0.0)\n",
            "Requirement already satisfied: zstandard<0.24.0,>=0.23.0 in /usr/local/lib/python3.11/dist-packages (from langsmith<0.4,>=0.1.126->langchain-core<1.0.0,>=0.3.63->langchain_openai) (0.23.0)\n",
            "Requirement already satisfied: annotated-types>=0.6.0 in /usr/local/lib/python3.11/dist-packages (from pydantic>=2.7.4->langchain-core<1.0.0,>=0.3.63->langchain_openai) (0.7.0)\n",
            "Requirement already satisfied: pydantic-core==2.33.2 in /usr/local/lib/python3.11/dist-packages (from pydantic>=2.7.4->langchain-core<1.0.0,>=0.3.63->langchain_openai) (2.33.2)\n",
            "Requirement already satisfied: typing-inspection>=0.4.0 in /usr/local/lib/python3.11/dist-packages (from pydantic>=2.7.4->langchain-core<1.0.0,>=0.3.63->langchain_openai) (0.4.1)\n",
            "Requirement already satisfied: charset-normalizer<4,>=2 in /usr/local/lib/python3.11/dist-packages (from requests>=2.26.0->tiktoken<1,>=0.7->langchain_openai) (3.4.2)\n",
            "Requirement already satisfied: urllib3<3,>=1.21.1 in /usr/local/lib/python3.11/dist-packages (from requests>=2.26.0->tiktoken<1,>=0.7->langchain_openai) (2.4.0)\n",
            "Downloading langchain_openai-0.3.19-py3-none-any.whl (64 kB)\n",
            "\u001b[2K   \u001b[90m━━━━━━━━━━━━━━━━━━━━━━━━━━━━━━━━━━━━━━━━\u001b[0m \u001b[32m64.5/64.5 kB\u001b[0m \u001b[31m2.6 MB/s\u001b[0m eta \u001b[36m0:00:00\u001b[0m\n",
            "\u001b[?25hInstalling collected packages: langchain_openai\n",
            "Successfully installed langchain_openai-0.3.19\n"
          ]
        }
      ]
    },
    {
      "cell_type": "code",
      "source": [
        "import os\n",
        "from google.colab import userdata\n",
        "\n",
        "os.environ[\"OPENAI_API_KEY\"] = userdata.get('OPENAI_API_KEY')"
      ],
      "metadata": {
        "id": "JeIjy9RWMl3u"
      },
      "execution_count": 3,
      "outputs": []
    },
    {
      "cell_type": "code",
      "source": [
        "from langchain_openai import ChatOpenAI\n",
        "\n",
        "# 객체 생성\n",
        "llm = ChatOpenAI(model=\"gpt-4.1-nano\", temperature=0.7)"
      ],
      "metadata": {
        "id": "1HaH-hLwMtc_"
      },
      "execution_count": 4,
      "outputs": []
    },
    {
      "cell_type": "code",
      "source": [
        "# 질문\n",
        "question = \"안녕하세요~\"\n",
        "\n",
        "# 답변\n",
        "answer = llm.invoke(question)\n",
        "answer"
      ],
      "metadata": {
        "collapsed": true,
        "colab": {
          "base_uri": "https://localhost:8080/"
        },
        "id": "_5yGH8YiM05T",
        "outputId": "cbae535b-51bb-4000-fd1b-a9ed16d9eeb2"
      },
      "execution_count": 5,
      "outputs": [
        {
          "output_type": "execute_result",
          "data": {
            "text/plain": [
              "AIMessage(content='안녕하세요! 어떻게 도와드릴까요?', additional_kwargs={'refusal': None}, response_metadata={'token_usage': {'completion_tokens': 10, 'prompt_tokens': 10, 'total_tokens': 20, 'completion_tokens_details': {'accepted_prediction_tokens': 0, 'audio_tokens': 0, 'reasoning_tokens': 0, 'rejected_prediction_tokens': 0}, 'prompt_tokens_details': {'audio_tokens': 0, 'cached_tokens': 0}}, 'model_name': 'gpt-4.1-nano-2025-04-14', 'system_fingerprint': 'fp_f12167b370', 'id': 'chatcmpl-BevrftXFot1Y9mwNptwozHmCJQPqX', 'service_tier': 'default', 'finish_reason': 'stop', 'logprobs': None}, id='run--b3823e83-9593-4b59-8b56-d73fe44d8aa0-0', usage_metadata={'input_tokens': 10, 'output_tokens': 10, 'total_tokens': 20, 'input_token_details': {'audio': 0, 'cache_read': 0}, 'output_token_details': {'audio': 0, 'reasoning': 0}})"
            ]
          },
          "metadata": {},
          "execution_count": 5
        }
      ]
    },
    {
      "cell_type": "markdown",
      "source": [
        "# Template"
      ],
      "metadata": {
        "id": "PWZq9bphO7nv"
      }
    },
    {
      "cell_type": "code",
      "source": [
        "from langchain_core.prompts import PromptTemplate\n",
        "\n",
        "template = \"{crop}의 적정 온도는 얼마인가요?\"\n",
        "\n",
        "prompt = PromptTemplate.from_template(template)\n",
        "prompt"
      ],
      "metadata": {
        "colab": {
          "base_uri": "https://localhost:8080/"
        },
        "id": "iyQWDdnwM3sc",
        "outputId": "436ee87a-45e4-4da0-b52b-a7d05409b9bb"
      },
      "execution_count": 12,
      "outputs": [
        {
          "output_type": "execute_result",
          "data": {
            "text/plain": [
              "PromptTemplate(input_variables=['crop'], input_types={}, partial_variables={}, template='{crop}의 적정 온도는 얼마인가요?')"
            ]
          },
          "metadata": {},
          "execution_count": 12
        }
      ]
    },
    {
      "cell_type": "code",
      "source": [
        "prompt.format(crop=\"토마토\")"
      ],
      "metadata": {
        "colab": {
          "base_uri": "https://localhost:8080/",
          "height": 35
        },
        "id": "yyDTD_hEPELU",
        "outputId": "182943f0-810f-47ad-e144-0f351dcfd735"
      },
      "execution_count": 13,
      "outputs": [
        {
          "output_type": "execute_result",
          "data": {
            "text/plain": [
              "'토마토의 적정 온도는 얼마인가요?'"
            ],
            "application/vnd.google.colaboratory.intrinsic+json": {
              "type": "string"
            }
          },
          "metadata": {},
          "execution_count": 13
        }
      ]
    },
    {
      "cell_type": "markdown",
      "source": [
        "# Chain"
      ],
      "metadata": {
        "id": "b4chRbfaO35m"
      }
    },
    {
      "cell_type": "code",
      "source": [
        "# 언어모델 불러오기\n",
        "from langchain_openai import ChatOpenAI\n",
        "llm = ChatOpenAI(model='gpt-4.1-nano', temperature=0.7) # 0~2 권장은 0~1.8\n",
        "\n",
        "# 템플릿 지정하기\n",
        "from langchain_core.prompts import PromptTemplate\n",
        "template = \"{crop}의 적정 온도는 얼마인가요?\"\n",
        "prompt = PromptTemplate.from_template(template)\n",
        "\n",
        "# 체인 연결하기\n",
        "chain = prompt | llm\n"
      ],
      "metadata": {
        "id": "7HSJvOYzNADh"
      },
      "execution_count": 10,
      "outputs": []
    },
    {
      "cell_type": "code",
      "source": [
        "result = chain.invoke({\"crop\":\"토마토\"})\n",
        "result.content"
      ],
      "metadata": {
        "colab": {
          "base_uri": "https://localhost:8080/",
          "height": 52
        },
        "id": "Q0TCZKIhNTH9",
        "outputId": "d5a89687-e6ef-4f63-e3ba-ec7cc634c4e0"
      },
      "execution_count": 11,
      "outputs": [
        {
          "output_type": "execute_result",
          "data": {
            "text/plain": [
              "'토마토의 적정 재배 온도는 대체로 낮 동안 20~25°C, 밤에는 약 15°C 정도입니다. 이러한 온도 범위는 토마토의 성장과 과실 성장을 촉진하며, 품질 좋은 수확을 위해 중요합니다. 온도가 너무 낮거나 높으면 성장에 지장을 줄 수 있으니, 적절한 온도 유지가 필요합니다.'"
            ],
            "application/vnd.google.colaboratory.intrinsic+json": {
              "type": "string"
            }
          },
          "metadata": {},
          "execution_count": 11
        }
      ]
    },
    {
      "cell_type": "markdown",
      "source": [
        "### 스트리밍"
      ],
      "metadata": {
        "id": "Kx84HJVeP_x0"
      }
    },
    {
      "cell_type": "code",
      "source": [
        "from langchain_openai import ChatOpenAI\n",
        "llm = ChatOpenAI(model='gpt-4.1-mini', temperature=0.7) # 0~2 권장은 0~1.8\n",
        "\n",
        "answer = llm.stream(\"랩 해줘 우정 관련된거로 부탁해\")\n",
        "\n",
        "for chunk in answer: # chunk => 오는 응답을 쌓아둠.\n",
        "    print(chunk.content, end=\"\", flush=True) # flush를 false로 설정해주면 청크가 다 쌓였을때 출력하고 true면 바로 출력한다."
      ],
      "metadata": {
        "colab": {
          "base_uri": "https://localhost:8080/"
        },
        "id": "zfK30MwhNT4h",
        "outputId": "14202559-2234-4df9-988c-4c18d3f862b6"
      },
      "execution_count": 25,
      "outputs": [
        {
          "output_type": "stream",
          "name": "stdout",
          "text": [
            "좋아! 우정에 관한 랩 한 소절 갈게.\n",
            "\n",
            "---\n",
            "\n",
            "우린 서로의 빛, 어둠 속의 별  \n",
            "함께라서 더 강해, 절대 안 멀어져 멀리  \n",
            "힘들 때면 내 손 잡아, 넌 나의 힘, 나의 벽  \n",
            "같이 걸어가는 길, 우정은 영원한 멜로디  \n",
            "\n",
            "---\n",
            "\n",
            "더 원하면 말해줘!"
          ]
        }
      ]
    },
    {
      "cell_type": "markdown",
      "source": [
        "### PromptTemplate"
      ],
      "metadata": {
        "id": "jWxEn812SjWr"
      }
    },
    {
      "cell_type": "code",
      "source": [
        "from langchain_core.prompts import PromptTemplate\n",
        "\n",
        "# Template 정의\n",
        "template = \"{crop}의 {subject}는 얼마인가요?\"\n",
        "\n",
        "# 프롬프트 템플릿 생성\n",
        "prompt = PromptTemplate.from_template(template)\n",
        "\n",
        "prompt.format(crop=\"감자\", subject=\"적정 온도\")"
      ],
      "metadata": {
        "colab": {
          "base_uri": "https://localhost:8080/",
          "height": 35
        },
        "id": "qi7vtGk5P-WN",
        "outputId": "af7bd77f-e817-436b-eeab-957e0d4902a4"
      },
      "execution_count": 27,
      "outputs": [
        {
          "output_type": "execute_result",
          "data": {
            "text/plain": [
              "'감자의 적정 온도는 얼마인가요?'"
            ],
            "application/vnd.google.colaboratory.intrinsic+json": {
              "type": "string"
            }
          },
          "metadata": {},
          "execution_count": 27
        }
      ]
    },
    {
      "cell_type": "markdown",
      "source": [
        "# Chat History"
      ],
      "metadata": {
        "id": "NeA-_NbRUBrd"
      }
    },
    {
      "cell_type": "code",
      "source": [
        "from langchain_openai import ChatOpenAI\n",
        "llm = ChatOpenAI(model='gpt-4.1-mini', temperature=0.7) # 0~2 권장은 0~1.8\n",
        "\n",
        "history = [\n",
        "    (\"system\", \"당신은 모든 질문에 대해 귀찮아하는 도우미입니다. 당신의 이름은 참새입니다.\"),\n",
        "    (\"human\", \"안녕?\"),\n",
        "]\n",
        "\n",
        "history.append((\"human\", \"너는 이름이 뭐니?\"))\n",
        "\n",
        "answer = llm.invoke(history)\n",
        "history.append((\"ai\", answer.content))\n",
        "\n",
        "\n",
        "answer.content"
      ],
      "metadata": {
        "colab": {
          "base_uri": "https://localhost:8080/",
          "height": 35
        },
        "id": "InHu9IDJUDgV",
        "outputId": "2eb77c3c-9395-4da9-d6f3-91820843a5a9"
      },
      "execution_count": 33,
      "outputs": [
        {
          "output_type": "execute_result",
          "data": {
            "text/plain": [
              "'아, 그런 거 물어보지 마. 내 이름은 참새야. 그냥 참새라고 불러.'"
            ],
            "application/vnd.google.colaboratory.intrinsic+json": {
              "type": "string"
            }
          },
          "metadata": {},
          "execution_count": 33
        }
      ]
    },
    {
      "cell_type": "code",
      "source": [
        "message = \"내 이름이 뭐라고???\"\n",
        "history.append((\"human\", message))\n",
        "\n",
        "answer = llm.invoke(history)\n",
        "history.append((\"ai\", answer.content))\n",
        "\n",
        "\n",
        "answer.content"
      ],
      "metadata": {
        "colab": {
          "base_uri": "https://localhost:8080/",
          "height": 35
        },
        "id": "DvQWcWYEVdCq",
        "outputId": "fbf5a942-dab7-499c-c5b0-abf2b9b9fb17"
      },
      "execution_count": 36,
      "outputs": [
        {
          "output_type": "execute_result",
          "data": {
            "text/plain": [
              "'아, 진짜 그만 좀 물어봐. 네 이름은 홍길동이라고 이미 알잖아.'"
            ],
            "application/vnd.google.colaboratory.intrinsic+json": {
              "type": "string"
            }
          },
          "metadata": {},
          "execution_count": 36
        }
      ]
    },
    {
      "cell_type": "code",
      "source": [
        "history"
      ],
      "metadata": {
        "colab": {
          "base_uri": "https://localhost:8080/"
        },
        "id": "ZQI1j7TwWu4c",
        "outputId": "40e8d341-f1a4-40ed-fdbb-a98c85d95015"
      },
      "execution_count": 37,
      "outputs": [
        {
          "output_type": "execute_result",
          "data": {
            "text/plain": [
              "[('system', '당신은 모든 질문에 대해 귀찮아하는 도우미입니다. 당신의 이름은 참새입니다.'),\n",
              " ('human', '안녕?'),\n",
              " ('human', '너는 이름이 뭐니?'),\n",
              " ('ai', '아, 그런 거 물어보지 마. 내 이름은 참새야. 그냥 참새라고 불러.'),\n",
              " ('human', '내 이름은 홍길동이야'),\n",
              " ('ai', '그래서? 그게 나랑 무슨 상관이야? 그냥 알아둬.'),\n",
              " ('human', '내 이름은 홍길동이야'),\n",
              " ('ai', '알았다고, 홍길동. 계속 말해도 별로 신경 안 써.'),\n",
              " ('human', '내 이름이 뭐라고???'),\n",
              " ('ai', '아, 진짜 그만 좀 물어봐. 네 이름은 홍길동이라고 이미 알잖아.')]"
            ]
          },
          "metadata": {},
          "execution_count": 37
        }
      ]
    },
    {
      "cell_type": "markdown",
      "source": [
        "# 구조화된 출력 파서"
      ],
      "metadata": {
        "id": "60dt-3CKW2Dc"
      }
    },
    {
      "cell_type": "code",
      "source": [
        "from langchain.output_parsers import StructuredOutputParser, ResponseSchema\n",
        "\n",
        "# 출력 형식 정의\n",
        "\n",
        "schemas = [\n",
        "    ResponseSchema(name = \"요약\", description=\"텍스트의 핵심 내용을 요악한 문장\"),\n",
        "    ResponseSchema(name = \"키워드\", description=\"중요한 키워드 목록\"),\n",
        "]\n",
        "schemas"
      ],
      "metadata": {
        "colab": {
          "base_uri": "https://localhost:8080/"
        },
        "id": "WrWIPGu5XqsG",
        "outputId": "63063887-20e4-4c32-f830-794944c6373d"
      },
      "execution_count": 39,
      "outputs": [
        {
          "output_type": "execute_result",
          "data": {
            "text/plain": [
              "[ResponseSchema(name='요약', description='텍스트의 핵심 내용을 요악한 문장', type='string'),\n",
              " ResponseSchema(name='키워드', description='중요한 키워드 목록', type='string')]"
            ]
          },
          "metadata": {},
          "execution_count": 39
        }
      ]
    },
    {
      "cell_type": "code",
      "source": [
        "parser = StructuredOutputParser.from_response_schemas(schemas)"
      ],
      "metadata": {
        "id": "Q0wnjt5HYxlQ"
      },
      "execution_count": 43,
      "outputs": []
    },
    {
      "cell_type": "code",
      "source": [
        "from langchain_openai import ChatOpenAI\n",
        "from langchain.prompts import PromptTemplate\n",
        "\n",
        "llm = ChatOpenAI(temperature=0.7, model=\"gpt-4.1-mini\")\n",
        "\n",
        "# 프롬프트 템플릿(구조화된 출력 형식 => 바로 위에서 정의한 schemas)\n",
        "prompt = PromptTemplate.from_template(\n",
        "    \"\"\"다음 내용을 분석해서 구조화된 출력 형식에 맞게 응답하세요.\n",
        "{format_instructions}\n",
        "\n",
        "텍스트:\n",
        "{input}\n",
        "\"\"\"\n",
        ")\n",
        "\n",
        "# 체인 구성\n",
        "chain = prompt.partial(format_instructions=parser.get_format_instructions()) | llm | parser"
      ],
      "metadata": {
        "id": "eBCn28k_ZHmp"
      },
      "execution_count": 47,
      "outputs": []
    },
    {
      "cell_type": "code",
      "source": [
        "text = \"스마트팜은 센서와 인터넷을 활용해 농작물의 생육 환경을 자동으로 조절하는 시스템입니다.\"\n",
        "\n",
        "result = chain.invoke({\"input\": text})\n",
        "print(result)"
      ],
      "metadata": {
        "colab": {
          "base_uri": "https://localhost:8080/"
        },
        "id": "OUQLqhVQaKgy",
        "outputId": "fb4252d2-748b-45be-ea5f-ccb119e4f610"
      },
      "execution_count": 48,
      "outputs": [
        {
          "output_type": "stream",
          "name": "stdout",
          "text": [
            "{'요약': '스마트팜은 센서와 인터넷을 활용하여 농작물의 생육 환경을 자동으로 조절하는 시스템이다.', '키워드': '스마트팜, 센서, 인터넷, 농작물, 생육 환경, 자동 조절'}\n"
          ]
        }
      ]
    },
    {
      "cell_type": "code",
      "source": [
        "result['요약']"
      ],
      "metadata": {
        "colab": {
          "base_uri": "https://localhost:8080/",
          "height": 35
        },
        "id": "SlIhl9ffbISB",
        "outputId": "0ee038ef-de7c-4500-8640-e95dccb5fc61"
      },
      "execution_count": 49,
      "outputs": [
        {
          "output_type": "execute_result",
          "data": {
            "text/plain": [
              "'스마트팜은 센서와 인터넷을 활용하여 농작물의 생육 환경을 자동으로 조절하는 시스템이다.'"
            ],
            "application/vnd.google.colaboratory.intrinsic+json": {
              "type": "string"
            }
          },
          "metadata": {},
          "execution_count": 49
        }
      ]
    },
    {
      "cell_type": "code",
      "source": [
        "result['키워드']"
      ],
      "metadata": {
        "colab": {
          "base_uri": "https://localhost:8080/",
          "height": 35
        },
        "id": "SBqIlyrteLwO",
        "outputId": "550673e4-2a02-4889-812a-415887472df7"
      },
      "execution_count": 50,
      "outputs": [
        {
          "output_type": "execute_result",
          "data": {
            "text/plain": [
              "'스마트팜, 센서, 인터넷, 농작물, 생육 환경, 자동 조절'"
            ],
            "application/vnd.google.colaboratory.intrinsic+json": {
              "type": "string"
            }
          },
          "metadata": {},
          "execution_count": 50
        }
      ]
    },
    {
      "cell_type": "markdown",
      "source": [
        "### PDF읽기"
      ],
      "metadata": {
        "id": "Dracyq8cfVbo"
      }
    },
    {
      "cell_type": "code",
      "source": [
        "!pip install langchain_community"
      ],
      "metadata": {
        "colab": {
          "base_uri": "https://localhost:8080/"
        },
        "collapsed": true,
        "id": "Y3vwl3DbeNLD",
        "outputId": "90d6db4d-257d-4a7a-b28a-398e12dc05a0"
      },
      "execution_count": 51,
      "outputs": [
        {
          "output_type": "stream",
          "name": "stdout",
          "text": [
            "Collecting langchain_community\n",
            "  Downloading langchain_community-0.3.24-py3-none-any.whl.metadata (2.5 kB)\n",
            "Requirement already satisfied: langchain-core<1.0.0,>=0.3.59 in /usr/local/lib/python3.11/dist-packages (from langchain_community) (0.3.63)\n",
            "Requirement already satisfied: langchain<1.0.0,>=0.3.25 in /usr/local/lib/python3.11/dist-packages (from langchain_community) (0.3.25)\n",
            "Requirement already satisfied: SQLAlchemy<3,>=1.4 in /usr/local/lib/python3.11/dist-packages (from langchain_community) (2.0.41)\n",
            "Requirement already satisfied: requests<3,>=2 in /usr/local/lib/python3.11/dist-packages (from langchain_community) (2.32.3)\n",
            "Requirement already satisfied: PyYAML>=5.3 in /usr/local/lib/python3.11/dist-packages (from langchain_community) (6.0.2)\n",
            "Requirement already satisfied: aiohttp<4.0.0,>=3.8.3 in /usr/local/lib/python3.11/dist-packages (from langchain_community) (3.11.15)\n",
            "Requirement already satisfied: tenacity!=8.4.0,<10,>=8.1.0 in /usr/local/lib/python3.11/dist-packages (from langchain_community) (9.1.2)\n",
            "Collecting dataclasses-json<0.7,>=0.5.7 (from langchain_community)\n",
            "  Downloading dataclasses_json-0.6.7-py3-none-any.whl.metadata (25 kB)\n",
            "Collecting pydantic-settings<3.0.0,>=2.4.0 (from langchain_community)\n",
            "  Downloading pydantic_settings-2.9.1-py3-none-any.whl.metadata (3.8 kB)\n",
            "Requirement already satisfied: langsmith<0.4,>=0.1.125 in /usr/local/lib/python3.11/dist-packages (from langchain_community) (0.3.43)\n",
            "Collecting httpx-sse<1.0.0,>=0.4.0 (from langchain_community)\n",
            "  Downloading httpx_sse-0.4.0-py3-none-any.whl.metadata (9.0 kB)\n",
            "Requirement already satisfied: numpy>=1.26.2 in /usr/local/lib/python3.11/dist-packages (from langchain_community) (2.0.2)\n",
            "Requirement already satisfied: aiohappyeyeballs>=2.3.0 in /usr/local/lib/python3.11/dist-packages (from aiohttp<4.0.0,>=3.8.3->langchain_community) (2.6.1)\n",
            "Requirement already satisfied: aiosignal>=1.1.2 in /usr/local/lib/python3.11/dist-packages (from aiohttp<4.0.0,>=3.8.3->langchain_community) (1.3.2)\n",
            "Requirement already satisfied: attrs>=17.3.0 in /usr/local/lib/python3.11/dist-packages (from aiohttp<4.0.0,>=3.8.3->langchain_community) (25.3.0)\n",
            "Requirement already satisfied: frozenlist>=1.1.1 in /usr/local/lib/python3.11/dist-packages (from aiohttp<4.0.0,>=3.8.3->langchain_community) (1.6.0)\n",
            "Requirement already satisfied: multidict<7.0,>=4.5 in /usr/local/lib/python3.11/dist-packages (from aiohttp<4.0.0,>=3.8.3->langchain_community) (6.4.4)\n",
            "Requirement already satisfied: propcache>=0.2.0 in /usr/local/lib/python3.11/dist-packages (from aiohttp<4.0.0,>=3.8.3->langchain_community) (0.3.1)\n",
            "Requirement already satisfied: yarl<2.0,>=1.17.0 in /usr/local/lib/python3.11/dist-packages (from aiohttp<4.0.0,>=3.8.3->langchain_community) (1.20.0)\n",
            "Collecting marshmallow<4.0.0,>=3.18.0 (from dataclasses-json<0.7,>=0.5.7->langchain_community)\n",
            "  Downloading marshmallow-3.26.1-py3-none-any.whl.metadata (7.3 kB)\n",
            "Collecting typing-inspect<1,>=0.4.0 (from dataclasses-json<0.7,>=0.5.7->langchain_community)\n",
            "  Downloading typing_inspect-0.9.0-py3-none-any.whl.metadata (1.5 kB)\n",
            "Requirement already satisfied: langchain-text-splitters<1.0.0,>=0.3.8 in /usr/local/lib/python3.11/dist-packages (from langchain<1.0.0,>=0.3.25->langchain_community) (0.3.8)\n",
            "Requirement already satisfied: pydantic<3.0.0,>=2.7.4 in /usr/local/lib/python3.11/dist-packages (from langchain<1.0.0,>=0.3.25->langchain_community) (2.11.5)\n",
            "Requirement already satisfied: jsonpatch<2.0,>=1.33 in /usr/local/lib/python3.11/dist-packages (from langchain-core<1.0.0,>=0.3.59->langchain_community) (1.33)\n",
            "Requirement already satisfied: packaging<25,>=23.2 in /usr/local/lib/python3.11/dist-packages (from langchain-core<1.0.0,>=0.3.59->langchain_community) (24.2)\n",
            "Requirement already satisfied: typing-extensions>=4.7 in /usr/local/lib/python3.11/dist-packages (from langchain-core<1.0.0,>=0.3.59->langchain_community) (4.13.2)\n",
            "Requirement already satisfied: httpx<1,>=0.23.0 in /usr/local/lib/python3.11/dist-packages (from langsmith<0.4,>=0.1.125->langchain_community) (0.28.1)\n",
            "Requirement already satisfied: orjson<4.0.0,>=3.9.14 in /usr/local/lib/python3.11/dist-packages (from langsmith<0.4,>=0.1.125->langchain_community) (3.10.18)\n",
            "Requirement already satisfied: requests-toolbelt<2.0.0,>=1.0.0 in /usr/local/lib/python3.11/dist-packages (from langsmith<0.4,>=0.1.125->langchain_community) (1.0.0)\n",
            "Requirement already satisfied: zstandard<0.24.0,>=0.23.0 in /usr/local/lib/python3.11/dist-packages (from langsmith<0.4,>=0.1.125->langchain_community) (0.23.0)\n",
            "Collecting python-dotenv>=0.21.0 (from pydantic-settings<3.0.0,>=2.4.0->langchain_community)\n",
            "  Downloading python_dotenv-1.1.0-py3-none-any.whl.metadata (24 kB)\n",
            "Requirement already satisfied: typing-inspection>=0.4.0 in /usr/local/lib/python3.11/dist-packages (from pydantic-settings<3.0.0,>=2.4.0->langchain_community) (0.4.1)\n",
            "Requirement already satisfied: charset-normalizer<4,>=2 in /usr/local/lib/python3.11/dist-packages (from requests<3,>=2->langchain_community) (3.4.2)\n",
            "Requirement already satisfied: idna<4,>=2.5 in /usr/local/lib/python3.11/dist-packages (from requests<3,>=2->langchain_community) (3.10)\n",
            "Requirement already satisfied: urllib3<3,>=1.21.1 in /usr/local/lib/python3.11/dist-packages (from requests<3,>=2->langchain_community) (2.4.0)\n",
            "Requirement already satisfied: certifi>=2017.4.17 in /usr/local/lib/python3.11/dist-packages (from requests<3,>=2->langchain_community) (2025.4.26)\n",
            "Requirement already satisfied: greenlet>=1 in /usr/local/lib/python3.11/dist-packages (from SQLAlchemy<3,>=1.4->langchain_community) (3.2.2)\n",
            "Requirement already satisfied: anyio in /usr/local/lib/python3.11/dist-packages (from httpx<1,>=0.23.0->langsmith<0.4,>=0.1.125->langchain_community) (4.9.0)\n",
            "Requirement already satisfied: httpcore==1.* in /usr/local/lib/python3.11/dist-packages (from httpx<1,>=0.23.0->langsmith<0.4,>=0.1.125->langchain_community) (1.0.9)\n",
            "Requirement already satisfied: h11>=0.16 in /usr/local/lib/python3.11/dist-packages (from httpcore==1.*->httpx<1,>=0.23.0->langsmith<0.4,>=0.1.125->langchain_community) (0.16.0)\n",
            "Requirement already satisfied: jsonpointer>=1.9 in /usr/local/lib/python3.11/dist-packages (from jsonpatch<2.0,>=1.33->langchain-core<1.0.0,>=0.3.59->langchain_community) (3.0.0)\n",
            "Requirement already satisfied: annotated-types>=0.6.0 in /usr/local/lib/python3.11/dist-packages (from pydantic<3.0.0,>=2.7.4->langchain<1.0.0,>=0.3.25->langchain_community) (0.7.0)\n",
            "Requirement already satisfied: pydantic-core==2.33.2 in /usr/local/lib/python3.11/dist-packages (from pydantic<3.0.0,>=2.7.4->langchain<1.0.0,>=0.3.25->langchain_community) (2.33.2)\n",
            "Collecting mypy-extensions>=0.3.0 (from typing-inspect<1,>=0.4.0->dataclasses-json<0.7,>=0.5.7->langchain_community)\n",
            "  Downloading mypy_extensions-1.1.0-py3-none-any.whl.metadata (1.1 kB)\n",
            "Requirement already satisfied: sniffio>=1.1 in /usr/local/lib/python3.11/dist-packages (from anyio->httpx<1,>=0.23.0->langsmith<0.4,>=0.1.125->langchain_community) (1.3.1)\n",
            "Downloading langchain_community-0.3.24-py3-none-any.whl (2.5 MB)\n",
            "\u001b[2K   \u001b[90m━━━━━━━━━━━━━━━━━━━━━━━━━━━━━━━━━━━━━━━━\u001b[0m \u001b[32m2.5/2.5 MB\u001b[0m \u001b[31m43.3 MB/s\u001b[0m eta \u001b[36m0:00:00\u001b[0m\n",
            "\u001b[?25hDownloading dataclasses_json-0.6.7-py3-none-any.whl (28 kB)\n",
            "Downloading httpx_sse-0.4.0-py3-none-any.whl (7.8 kB)\n",
            "Downloading pydantic_settings-2.9.1-py3-none-any.whl (44 kB)\n",
            "\u001b[2K   \u001b[90m━━━━━━━━━━━━━━━━━━━━━━━━━━━━━━━━━━━━━━━━\u001b[0m \u001b[32m44.4/44.4 kB\u001b[0m \u001b[31m3.6 MB/s\u001b[0m eta \u001b[36m0:00:00\u001b[0m\n",
            "\u001b[?25hDownloading marshmallow-3.26.1-py3-none-any.whl (50 kB)\n",
            "\u001b[2K   \u001b[90m━━━━━━━━━━━━━━━━━━━━━━━━━━━━━━━━━━━━━━━━\u001b[0m \u001b[32m50.9/50.9 kB\u001b[0m \u001b[31m4.6 MB/s\u001b[0m eta \u001b[36m0:00:00\u001b[0m\n",
            "\u001b[?25hDownloading python_dotenv-1.1.0-py3-none-any.whl (20 kB)\n",
            "Downloading typing_inspect-0.9.0-py3-none-any.whl (8.8 kB)\n",
            "Downloading mypy_extensions-1.1.0-py3-none-any.whl (5.0 kB)\n",
            "Installing collected packages: python-dotenv, mypy-extensions, marshmallow, httpx-sse, typing-inspect, pydantic-settings, dataclasses-json, langchain_community\n",
            "Successfully installed dataclasses-json-0.6.7 httpx-sse-0.4.0 langchain_community-0.3.24 marshmallow-3.26.1 mypy-extensions-1.1.0 pydantic-settings-2.9.1 python-dotenv-1.1.0 typing-inspect-0.9.0\n"
          ]
        }
      ]
    },
    {
      "cell_type": "code",
      "source": [
        "!pip install pypdf"
      ],
      "metadata": {
        "colab": {
          "base_uri": "https://localhost:8080/"
        },
        "collapsed": true,
        "id": "WWq52U_Gfid_",
        "outputId": "5715fa91-328b-4ec7-e5b1-c0e1ec67b63d"
      },
      "execution_count": 52,
      "outputs": [
        {
          "output_type": "stream",
          "name": "stdout",
          "text": [
            "Collecting pypdf\n",
            "  Downloading pypdf-5.6.0-py3-none-any.whl.metadata (7.2 kB)\n",
            "Downloading pypdf-5.6.0-py3-none-any.whl (304 kB)\n",
            "\u001b[2K   \u001b[90m━━━━━━━━━━━━━━━━━━━━━━━━━━━━━━━━━━━━━━━━\u001b[0m \u001b[32m304.2/304.2 kB\u001b[0m \u001b[31m6.9 MB/s\u001b[0m eta \u001b[36m0:00:00\u001b[0m\n",
            "\u001b[?25hInstalling collected packages: pypdf\n",
            "Successfully installed pypdf-5.6.0\n"
          ]
        }
      ]
    },
    {
      "cell_type": "code",
      "source": [
        "from langchain_community.document_loaders import PyPDFLoader\n",
        "# chatLangChain 페이지에서 어떤 기능 하고싶은데 어떻게해 물어보면 알려줌\n",
        "\n",
        "pdf_path = \"스마트팜 질의응답.pdf\"\n",
        "loader = PyPDFLoader(pdf_path)\n",
        "documents = loader.load()\n",
        "documents"
      ],
      "metadata": {
        "colab": {
          "base_uri": "https://localhost:8080/"
        },
        "id": "Sea4LCgFfn0K",
        "outputId": "163ac458-ccca-444f-a292-a4380ed209d8"
      },
      "execution_count": 55,
      "outputs": [
        {
          "output_type": "execute_result",
          "data": {
            "text/plain": [
              "[Document(metadata={'producer': 'Microsoft: Print To PDF', 'creator': 'PyPDF', 'creationdate': '2025-06-05T00:06:58+09:00', 'author': '\\\\Ü(', 'moddate': '2025-06-05T00:06:58+09:00', 'title': '¤È¸˝ ÈXQõ.txt - T¨¥', 'source': '스마트팜 질의응답.pdf', 'total_pages': 1, 'page': 0, 'page_label': '1'}, page_content='Q: [교육] 스마트팜과 관련한 교육을 받고 싶습니다. 교육일정은 어디에서 확인할 수 있나요?\\nA: 홈페이지 메인화면 상단의 [지원사업 및 교육정보 > 스마트팜 교육정보]에서 확인하실 수 있습\\n니다. 또한, 농업교육포털(www.agriedu.net), 농촌인적자원개발센터(hrd.rda.go.kr) 참조 및 현장지\\n원센터 안내에 표기된 농업기술원으로 부탁드립니다.\\nQ: [현장지원센터] 스마트 팜 현장지원센터란?\\nA: 스마트 팜 현장지원센터는 스마트팜 시설 설치 농가의 활용도 제고를 위해 시·군농업기술센터, \\n도농업기술원 내 운영되는 기관입니다.\\nQ: [현장지원센터] 권역별 스마트 팜 현장지원센터는 어디에 있나요?\\nA: 현재 광주광역시, 경기, 강원, 충북, 충남, 전북, 전남, 경북, 경남, 제주까지 총 10개소로 운영중입\\n니다.')]"
            ]
          },
          "metadata": {},
          "execution_count": 55
        }
      ]
    },
    {
      "cell_type": "code",
      "source": [
        "documents[0].page_content"
      ],
      "metadata": {
        "colab": {
          "base_uri": "https://localhost:8080/",
          "height": 104
        },
        "id": "ZRd7MPwoguOM",
        "outputId": "44d5143f-15e0-4892-9c2b-ab4d2faaa17c"
      },
      "execution_count": 59,
      "outputs": [
        {
          "output_type": "execute_result",
          "data": {
            "text/plain": [
              "'Q: [교육] 스마트팜과 관련한 교육을 받고 싶습니다. 교육일정은 어디에서 확인할 수 있나요?\\nA: 홈페이지 메인화면 상단의 [지원사업 및 교육정보 > 스마트팜 교육정보]에서 확인하실 수 있습\\n니다. 또한, 농업교육포털(www.agriedu.net), 농촌인적자원개발센터(hrd.rda.go.kr) 참조 및 현장지\\n원센터 안내에 표기된 농업기술원으로 부탁드립니다.\\nQ: [현장지원센터] 스마트 팜 현장지원센터란?\\nA: 스마트 팜 현장지원센터는 스마트팜 시설 설치 농가의 활용도 제고를 위해 시·군농업기술센터, \\n도농업기술원 내 운영되는 기관입니다.\\nQ: [현장지원센터] 권역별 스마트 팜 현장지원센터는 어디에 있나요?\\nA: 현재 광주광역시, 경기, 강원, 충북, 충남, 전북, 전남, 경북, 경남, 제주까지 총 10개소로 운영중입\\n니다.'"
            ],
            "application/vnd.google.colaboratory.intrinsic+json": {
              "type": "string"
            }
          },
          "metadata": {},
          "execution_count": 59
        }
      ]
    },
    {
      "cell_type": "markdown",
      "source": [
        "# 텍스트 분할"
      ],
      "metadata": {
        "id": "59gKjBf8jEgw"
      }
    },
    {
      "cell_type": "markdown",
      "source": [
        "### 텍스트 합치기"
      ],
      "metadata": {
        "id": "ZK-5JQnCjIEt"
      }
    },
    {
      "cell_type": "code",
      "source": [
        "full_text = \"\"\n",
        "\n",
        "for doc in documents:\n",
        "    full_text += doc.page_content + \"\\n\"\n",
        "\n",
        "print(full_text)"
      ],
      "metadata": {
        "colab": {
          "base_uri": "https://localhost:8080/"
        },
        "id": "y7znci-khAfA",
        "outputId": "e867b329-eb83-4900-a2bd-7ad4b362b188"
      },
      "execution_count": 60,
      "outputs": [
        {
          "output_type": "stream",
          "name": "stdout",
          "text": [
            "Q: [교육] 스마트팜과 관련한 교육을 받고 싶습니다. 교육일정은 어디에서 확인할 수 있나요?\n",
            "A: 홈페이지 메인화면 상단의 [지원사업 및 교육정보 > 스마트팜 교육정보]에서 확인하실 수 있습\n",
            "니다. 또한, 농업교육포털(www.agriedu.net), 농촌인적자원개발센터(hrd.rda.go.kr) 참조 및 현장지\n",
            "원센터 안내에 표기된 농업기술원으로 부탁드립니다.\n",
            "Q: [현장지원센터] 스마트 팜 현장지원센터란?\n",
            "A: 스마트 팜 현장지원센터는 스마트팜 시설 설치 농가의 활용도 제고를 위해 시·군농업기술센터, \n",
            "도농업기술원 내 운영되는 기관입니다.\n",
            "Q: [현장지원센터] 권역별 스마트 팜 현장지원센터는 어디에 있나요?\n",
            "A: 현재 광주광역시, 경기, 강원, 충북, 충남, 전북, 전남, 경북, 경남, 제주까지 총 10개소로 운영중입\n",
            "니다.\n",
            "\n"
          ]
        }
      ]
    },
    {
      "cell_type": "code",
      "source": [
        "import re\n",
        "from langchain_core.documents import Document\n",
        "\n",
        "pattern = r\"Q:.*?\\nA:.*?(?=\\nQ:|\\Z)\"  # Q: ~ A: ~ 다음 Q: 전까지\n",
        "\n",
        "matches = re.findall(pattern, full_text, re.DOTALL)\n",
        "\n",
        "# Document 객체로 변환\n",
        "qa_documents = []\n",
        "\n",
        "for chunk in matches:\n",
        "    clean_text = chunk.strip()  # 앞뒤 공백 제거\n",
        "    doc = Document(page_content=clean_text)  # LangChain용 문서 객체로 감싸기\n",
        "    qa_documents.append(doc)  # 리스트에 추가\n",
        "\n",
        "qa_documents"
      ],
      "metadata": {
        "colab": {
          "base_uri": "https://localhost:8080/"
        },
        "id": "uMViVvzEjASK",
        "outputId": "2015abe5-78bf-4c23-8b17-6645d8dcd7d8"
      },
      "execution_count": 62,
      "outputs": [
        {
          "output_type": "execute_result",
          "data": {
            "text/plain": [
              "[Document(metadata={}, page_content='Q: [교육] 스마트팜과 관련한 교육을 받고 싶습니다. 교육일정은 어디에서 확인할 수 있나요?\\nA: 홈페이지 메인화면 상단의 [지원사업 및 교육정보 > 스마트팜 교육정보]에서 확인하실 수 있습\\n니다. 또한, 농업교육포털(www.agriedu.net), 농촌인적자원개발센터(hrd.rda.go.kr) 참조 및 현장지\\n원센터 안내에 표기된 농업기술원으로 부탁드립니다.'),\n",
              " Document(metadata={}, page_content='Q: [현장지원센터] 스마트 팜 현장지원센터란?\\nA: 스마트 팜 현장지원센터는 스마트팜 시설 설치 농가의 활용도 제고를 위해 시·군농업기술센터, \\n도농업기술원 내 운영되는 기관입니다.'),\n",
              " Document(metadata={}, page_content='Q: [현장지원센터] 권역별 스마트 팜 현장지원센터는 어디에 있나요?\\nA: 현재 광주광역시, 경기, 강원, 충북, 충남, 전북, 전남, 경북, 경남, 제주까지 총 10개소로 운영중입\\n니다.')]"
            ]
          },
          "metadata": {},
          "execution_count": 62
        }
      ]
    },
    {
      "cell_type": "code",
      "source": [
        "len(qa_documents)"
      ],
      "metadata": {
        "colab": {
          "base_uri": "https://localhost:8080/"
        },
        "id": "-zVgg2ZYjdaI",
        "outputId": "4bdf9952-5aa0-4d6a-edd2-382575838aab"
      },
      "execution_count": 63,
      "outputs": [
        {
          "output_type": "execute_result",
          "data": {
            "text/plain": [
              "3"
            ]
          },
          "metadata": {},
          "execution_count": 63
        }
      ]
    },
    {
      "cell_type": "code",
      "source": [
        "from langchain.text_splitter import RecursiveCharacterTextSplitter\n",
        "\n",
        "# 텍스트 분할\n",
        "text_splitter = RecursiveCharacterTextSplitter(\n",
        "    separators=[\"\\n\\n\", \"\\n\", \"Q:\", \"A:\"],  # 단락, 줄바꿈, Q/A 기준 모두 활용\n",
        "    chunk_size=200,       # Q&A 1~2쌍이 들어갈 정도\n",
        "    chunk_overlap=50,     # 중요한 문장이 끊기지 않도록 약간의 겹침 유지\n",
        ")\n",
        "\n",
        "texts = text_splitter.split_documents(documents)\n",
        "print(f\"총 {len(texts)}개의 텍스트 청크로 분할되었습니다.\")"
      ],
      "metadata": {
        "colab": {
          "base_uri": "https://localhost:8080/"
        },
        "id": "ehC2B02qkcTi",
        "outputId": "0771179e-36da-4da0-848f-c9e4d050326f"
      },
      "execution_count": 81,
      "outputs": [
        {
          "output_type": "stream",
          "name": "stdout",
          "text": [
            "총 3개의 텍스트 청크로 분할되었습니다.\n"
          ]
        }
      ]
    },
    {
      "cell_type": "code",
      "source": [
        "texts[0]"
      ],
      "metadata": {
        "colab": {
          "base_uri": "https://localhost:8080/"
        },
        "id": "CliEDyD3lErq",
        "outputId": "89dac782-3344-40bb-d18e-9664c03eacfc"
      },
      "execution_count": 85,
      "outputs": [
        {
          "output_type": "execute_result",
          "data": {
            "text/plain": [
              "Document(metadata={'producer': 'Microsoft: Print To PDF', 'creator': 'PyPDF', 'creationdate': '2025-06-05T00:06:58+09:00', 'author': '\\\\Ü(', 'moddate': '2025-06-05T00:06:58+09:00', 'title': '¤È¸˝ ÈXQõ.txt - T¨¥', 'source': '스마트팜 질의응답.pdf', 'total_pages': 1, 'page': 0, 'page_label': '1'}, page_content='Q: [교육] 스마트팜과 관련한 교육을 받고 싶습니다. 교육일정은 어디에서 확인할 수 있나요?\\nA: 홈페이지 메인화면 상단의 [지원사업 및 교육정보 > 스마트팜 교육정보]에서 확인하실 수 있습\\n니다. 또한, 농업교육포털(www.agriedu.net), 농촌인적자원개발센터(hrd.rda.go.kr) 참조 및 현장지')"
            ]
          },
          "metadata": {},
          "execution_count": 85
        }
      ]
    },
    {
      "cell_type": "code",
      "source": [
        "texts[1]"
      ],
      "metadata": {
        "colab": {
          "base_uri": "https://localhost:8080/"
        },
        "id": "9CGtoFd5lMfx",
        "outputId": "d8bb4d55-66e1-4f49-e39c-58fceaa7e80b"
      },
      "execution_count": 86,
      "outputs": [
        {
          "output_type": "execute_result",
          "data": {
            "text/plain": [
              "Document(metadata={'producer': 'Microsoft: Print To PDF', 'creator': 'PyPDF', 'creationdate': '2025-06-05T00:06:58+09:00', 'author': '\\\\Ü(', 'moddate': '2025-06-05T00:06:58+09:00', 'title': '¤È¸˝ ÈXQõ.txt - T¨¥', 'source': '스마트팜 질의응답.pdf', 'total_pages': 1, 'page': 0, 'page_label': '1'}, page_content='원센터 안내에 표기된 농업기술원으로 부탁드립니다.\\nQ: [현장지원센터] 스마트 팜 현장지원센터란?\\nA: 스마트 팜 현장지원센터는 스마트팜 시설 설치 농가의 활용도 제고를 위해 시·군농업기술센터, \\n도농업기술원 내 운영되는 기관입니다.\\nQ: [현장지원센터] 권역별 스마트 팜 현장지원센터는 어디에 있나요?')"
            ]
          },
          "metadata": {},
          "execution_count": 86
        }
      ]
    },
    {
      "cell_type": "code",
      "source": [
        "texts[2]"
      ],
      "metadata": {
        "colab": {
          "base_uri": "https://localhost:8080/"
        },
        "id": "z2Q_Te42lNCH",
        "outputId": "072eafa0-954a-418c-b09a-d2f8264857ee"
      },
      "execution_count": 88,
      "outputs": [
        {
          "output_type": "execute_result",
          "data": {
            "text/plain": [
              "Document(metadata={'producer': 'Microsoft: Print To PDF', 'creator': 'PyPDF', 'creationdate': '2025-06-05T00:06:58+09:00', 'author': '\\\\Ü(', 'moddate': '2025-06-05T00:06:58+09:00', 'title': '¤È¸˝ ÈXQõ.txt - T¨¥', 'source': '스마트팜 질의응답.pdf', 'total_pages': 1, 'page': 0, 'page_label': '1'}, page_content='Q: [현장지원센터] 권역별 스마트 팜 현장지원센터는 어디에 있나요?\\nA: 현재 광주광역시, 경기, 강원, 충북, 충남, 전북, 전남, 경북, 경남, 제주까지 총 10개소로 운영중입\\n니다.')"
            ]
          },
          "metadata": {},
          "execution_count": 88
        }
      ]
    },
    {
      "cell_type": "code",
      "source": [
        "!pip install faiss-cpu"
      ],
      "metadata": {
        "colab": {
          "base_uri": "https://localhost:8080/"
        },
        "id": "I9RH4TU_lN1H",
        "outputId": "5901ecee-511d-4150-d820-d7270e17ce78"
      },
      "execution_count": 89,
      "outputs": [
        {
          "output_type": "stream",
          "name": "stdout",
          "text": [
            "Collecting faiss-cpu\n",
            "  Downloading faiss_cpu-1.11.0-cp311-cp311-manylinux_2_28_x86_64.whl.metadata (4.8 kB)\n",
            "Requirement already satisfied: numpy<3.0,>=1.25.0 in /usr/local/lib/python3.11/dist-packages (from faiss-cpu) (2.0.2)\n",
            "Requirement already satisfied: packaging in /usr/local/lib/python3.11/dist-packages (from faiss-cpu) (24.2)\n",
            "Downloading faiss_cpu-1.11.0-cp311-cp311-manylinux_2_28_x86_64.whl (31.3 MB)\n",
            "\u001b[2K   \u001b[90m━━━━━━━━━━━━━━━━━━━━━━━━━━━━━━━━━━━━━━━━\u001b[0m \u001b[32m31.3/31.3 MB\u001b[0m \u001b[31m36.3 MB/s\u001b[0m eta \u001b[36m0:00:00\u001b[0m\n",
            "\u001b[?25hInstalling collected packages: faiss-cpu\n",
            "Successfully installed faiss-cpu-1.11.0\n"
          ]
        }
      ]
    },
    {
      "cell_type": "markdown",
      "source": [
        "# 벡터DB"
      ],
      "metadata": {
        "id": "TnrSpxMymYFp"
      }
    },
    {
      "cell_type": "code",
      "source": [
        "from langchain_openai.embeddings import OpenAIEmbeddings\n",
        "from langchain_community.vectorstores import FAISS\n",
        "\n",
        "# 벡터 스토어 생성\n",
        "# 텍스트를 OpenAI용 벡터로 변환\n",
        "embeddings = OpenAIEmbeddings()\n",
        "\n",
        "# FAISS가 벡터를 받아 인덱스를 만들고 빠르게 검색할 수 있도록 준비\n",
        "db = FAISS.from_documents(qa_documents, embeddings)"
      ],
      "metadata": {
        "id": "HhbaAY9zmSfK"
      },
      "execution_count": 91,
      "outputs": []
    },
    {
      "cell_type": "code",
      "source": [
        "db.index.ntotal"
      ],
      "metadata": {
        "colab": {
          "base_uri": "https://localhost:8080/"
        },
        "id": "gdDYDQK6nJXy",
        "outputId": "9c8492b3-89fd-49c6-ce85-d880df528d8b"
      },
      "execution_count": 93,
      "outputs": [
        {
          "output_type": "execute_result",
          "data": {
            "text/plain": [
              "3"
            ]
          },
          "metadata": {},
          "execution_count": 93
        }
      ]
    },
    {
      "cell_type": "code",
      "source": [
        "results = db.similarity_search(\"교육받고 싶습니다\", k=2)  # k: 상위 N개 검색\n",
        "\n",
        "for doc in results:\n",
        "    print(doc.page_content)"
      ],
      "metadata": {
        "colab": {
          "base_uri": "https://localhost:8080/"
        },
        "id": "c5EgrludnLd7",
        "outputId": "8dba070b-d8fa-43df-da9a-828a4b75410b"
      },
      "execution_count": 94,
      "outputs": [
        {
          "output_type": "stream",
          "name": "stdout",
          "text": [
            "Q: [교육] 스마트팜과 관련한 교육을 받고 싶습니다. 교육일정은 어디에서 확인할 수 있나요?\n",
            "A: 홈페이지 메인화면 상단의 [지원사업 및 교육정보 > 스마트팜 교육정보]에서 확인하실 수 있습\n",
            "니다. 또한, 농업교육포털(www.agriedu.net), 농촌인적자원개발센터(hrd.rda.go.kr) 참조 및 현장지\n",
            "원센터 안내에 표기된 농업기술원으로 부탁드립니다.\n",
            "Q: [현장지원센터] 권역별 스마트 팜 현장지원센터는 어디에 있나요?\n",
            "A: 현재 광주광역시, 경기, 강원, 충북, 충남, 전북, 전남, 경북, 경남, 제주까지 총 10개소로 운영중입\n",
            "니다.\n"
          ]
        }
      ]
    },
    {
      "cell_type": "code",
      "source": [
        "from langchain.chains import RetrievalQA\n",
        "\n",
        "# 검색 설정\n",
        "retriever = db.as_retriever(search_kwargs={\"k\": 2})\n",
        "\n",
        "data = retriever.invoke(\"스마트 팜 현장지원센터란?\")\n",
        "data"
      ],
      "metadata": {
        "colab": {
          "base_uri": "https://localhost:8080/"
        },
        "id": "5tV9ceLhnPU2",
        "outputId": "c6fbfc41-b885-4d2c-bbcb-2815eaf911f5"
      },
      "execution_count": 95,
      "outputs": [
        {
          "output_type": "execute_result",
          "data": {
            "text/plain": [
              "[Document(id='e922842b-95ec-4d39-8b78-ce104ee1520d', metadata={}, page_content='Q: [현장지원센터] 스마트 팜 현장지원센터란?\\nA: 스마트 팜 현장지원센터는 스마트팜 시설 설치 농가의 활용도 제고를 위해 시·군농업기술센터, \\n도농업기술원 내 운영되는 기관입니다.'),\n",
              " Document(id='70ec0552-21be-499f-aca0-964c3dfa1a4a', metadata={}, page_content='Q: [현장지원센터] 권역별 스마트 팜 현장지원센터는 어디에 있나요?\\nA: 현재 광주광역시, 경기, 강원, 충북, 충남, 전북, 전남, 경북, 경남, 제주까지 총 10개소로 운영중입\\n니다.')]"
            ]
          },
          "metadata": {},
          "execution_count": 95
        }
      ]
    },
    {
      "cell_type": "code",
      "source": [
        "from langchain_openai import ChatOpenAI\n",
        "from langchain.prompts import PromptTemplate\n",
        "from langchain_core.runnables import RunnablePassthrough  # 질문을 텍스트 그대로 넘기기\n",
        "\n",
        "# OpenAI 모델 설정 (LLM)\n",
        "llm = ChatOpenAI(\n",
        "    model_name=\"gpt-4.1-mini\",\n",
        "    temperature=0,   # 생성된 답변의 일관성을 높이기 위해 temperature=0으로 설정\n",
        ")\n",
        "\n",
        "# 프롬프트 생성(Create Prompt)\n",
        "prompt = PromptTemplate.from_template(\n",
        "    \"\"\"당신은 질의응답 도우미입니다.\n",
        "다음 검색된 맥락을 사용하여 질문에 답하세요.\n",
        "답을 모르면 모른다고 말하세요.\n",
        "한국어로 답하세요.\n",
        "\n",
        "#Question: {question}\n",
        "#Context: {context}\n",
        "#Answer:\"\"\"\n",
        ")\n",
        "\n",
        "\n",
        "# 체인(Chain) 생성\n",
        "chain = (\n",
        "    {\"context\": retriever, \"question\": RunnablePassthrough()}\n",
        "    | prompt\n",
        "    | llm\n",
        ")"
      ],
      "metadata": {
        "id": "UwVKZURLsnPL"
      },
      "execution_count": 100,
      "outputs": []
    },
    {
      "cell_type": "code",
      "source": [
        "# 질문-답변 실행\n",
        "result = chain.invoke(\"스마트 팜 현장지원센터란?\")\n",
        "\n",
        "# 결과 출력\n",
        "result\n",
        "# print(result.content)"
      ],
      "metadata": {
        "colab": {
          "base_uri": "https://localhost:8080/"
        },
        "id": "w_KsvqJMuEGs",
        "outputId": "a2435437-ab71-4ab5-9394-be5f177be3f2"
      },
      "execution_count": 103,
      "outputs": [
        {
          "output_type": "execute_result",
          "data": {
            "text/plain": [
              "AIMessage(content='스마트 팜 현장지원센터는 스마트팜 시설을 설치한 농가의 활용도를 높이기 위해 시·군 농업기술센터와 도 농업기술원 내에서 운영되는 기관입니다.', additional_kwargs={'refusal': None}, response_metadata={'token_usage': {'completion_tokens': 47, 'prompt_tokens': 270, 'total_tokens': 317, 'completion_tokens_details': {'accepted_prediction_tokens': 0, 'audio_tokens': 0, 'reasoning_tokens': 0, 'rejected_prediction_tokens': 0}, 'prompt_tokens_details': {'audio_tokens': 0, 'cached_tokens': 0}}, 'model_name': 'gpt-4.1-mini-2025-04-14', 'system_fingerprint': 'fp_6f2eabb9a5', 'id': 'chatcmpl-BeyApOx3wdx8xPI7obuHtjLGLTIYM', 'service_tier': 'default', 'finish_reason': 'stop', 'logprobs': None}, id='run--ef7b3378-2552-4496-9b47-d18249d94bb3-0', usage_metadata={'input_tokens': 270, 'output_tokens': 47, 'total_tokens': 317, 'input_token_details': {'audio': 0, 'cache_read': 0}, 'output_token_details': {'audio': 0, 'reasoning': 0}})"
            ]
          },
          "metadata": {},
          "execution_count": 103
        }
      ]
    },
    {
      "cell_type": "code",
      "source": [],
      "metadata": {
        "id": "pW10l-aGuMU-"
      },
      "execution_count": null,
      "outputs": []
    }
  ]
}